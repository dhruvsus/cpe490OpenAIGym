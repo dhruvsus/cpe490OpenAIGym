{
 "cells": [
  {
   "cell_type": "markdown",
   "metadata": {},
   "source": [
    "# Applying Reinforcement Learning to Cartpole\n",
    "by Thomas Fahrner, Mikey Maramba, and Dhruv Singal\n"
   ]
  },
  {
   "cell_type": "markdown",
   "metadata": {},
   "source": [
    "## What is reinforcement learning?\n",
    "Recent progress in deep learning has expanded beyond unsupervised and supervised learning. Reinforcement learning (RL) is a class of algorithms that establish an action-reward framework to develop an agent that chooses actions to maximize rewards. This framework lends itself to Markov decision processes (MDP). The RL field has flocked to video games since they can often be analyzed as MDPs. OpenAI has created a \"gym\" where users can download environments (games). Users then train models on these environments in an attempt to converge on a high score."
   ]
  },
  {
   "cell_type": "markdown",
   "metadata": {},
   "source": [
    "## Cartpole\n",
    "Cartpole is an inverted pendulum environment from OpenAI. The goal of Cartpole is to balance the pole in an upright position. Agents have the ability to apply a left or right force on the cart. After each action/timestep, the environment returns an updated state and a reward. The game ends when the pole falls beyond 15 degrees from vertical or the cart extends beyond 2.4 units from the center. To \"win\" the game, the agent must receive an average reward of 195 over 100 trials. Each \"episode\" ends when either the game ends or the maximum reward (set by default to 200) is achieved.\n",
    "\n",
    "The state has four features: [position of cart, velocity of cart, angle of pole, rotation rate of pole] = [p, v, a, r]\n",
    "\n",
    "The reward is +1 after every timestep."
   ]
  },
  {
   "cell_type": "markdown",
   "metadata": {},
   "source": [
    "## Setting up a Cartpole/OpenAI Gym Environment\n",
    "After installing OpenAI Gym via pip, you can use the core environments that gym provides. The OpenAI Gym Environment provides users with environments and functions used to extract data from the environments for training. The central function is the step function, which returns 4 values: observation, reward, done, and info. Observation stores the 'state' of the game, reward stores the amount of reward achieved by the previous action, and done determines whether to reset the environment or not (info is mostly diagnostic information).\n",
    "\n",
    "Creating the Cartpole environment is as simple as such:"
   ]
  },
  {
   "cell_type": "code",
   "execution_count": 1,
   "metadata": {},
   "outputs": [
    {
     "name": "stdout",
     "output_type": "stream",
     "text": [
      "\u001b[33mWARN: gym.spaces.Box autodetected dtype as <class 'numpy.float32'>. Please provide explicit dtype.\u001b[0m\n"
     ]
    }
   ],
   "source": [
    "import gym\n",
    "env = gym.make('CartPole-v0')"
   ]
  },
  {
   "cell_type": "markdown",
   "metadata": {},
   "source": [
    "We will use the function test_params to test the parameter sets that we generate."
   ]
  },
  {
   "cell_type": "code",
   "execution_count": 2,
   "metadata": {
    "collapsed": true
   },
   "outputs": [],
   "source": [
    "def test_params(env, params):\n",
    "    observation = env.reset()\n",
    "    total_reward = 0\n",
    "    while True:\n",
    "        #env.render()\n",
    "        res = np.matmul(params, observation)\n",
    "        if res < 0:\n",
    "            action = 0\n",
    "        else:\n",
    "            action = 1\n",
    "        observation, reward, done, info = env.step(action)\n",
    "        #print(observation)\n",
    "        total_reward += reward\n",
    "        if done:\n",
    "            break\n",
    "    return total_reward"
   ]
  },
  {
   "cell_type": "markdown",
   "metadata": {},
   "source": [
    "These are the functions we will use to display the results of our algorithms. We will utilize various NumPy utilities and functions to perform matrix operations and use matplotlib to visualize the results of our algorithms' performance."
   ]
  },
  {
   "cell_type": "code",
   "execution_count": 3,
   "metadata": {
    "collapsed": true
   },
   "outputs": [],
   "source": [
    "import numpy as np\n",
    "from matplotlib import pyplot as plt\n",
    "\n",
    "\n",
    "env._max_episode_steps = 200  # Cap CartPole maximum reward to this amount\n",
    "num_samples = 100  # Number of samples to utilize for each algorithm\n",
    "\n",
    "\n",
    "def runHillClimbing(env):\n",
    "    num_episodes = []\n",
    "    for i in range(num_samples):\n",
    "        res = climb_hill(env)\n",
    "        if res:\n",
    "            num_episodes.append(res)\n",
    "\n",
    "    plt.hist(num_episodes)\n",
    "    plt.title('Hill Climbing Algorithm')\n",
    "    plt.xlabel('Episodes')\n",
    "    plt.ylabel('Frequency')\n",
    "    plt.show()\n",
    "    \n",
    "def runGuessing(env):\n",
    "    num_episodes = []\n",
    "    for i in range(num_samples):\n",
    "        num_episodes.append(run_guesses(env))\n",
    "\n",
    "    plt.hist(num_episodes)\n",
    "    plt.title('Random Guessing Algorithm')\n",
    "    plt.xlabel('Episodes')\n",
    "    plt.ylabel('Frequency')\n",
    "    plt.show()\n",
    "    \n",
    "def runPolicyGradient(env):\n",
    "    num_inputs = env.observation_space.shape[0]\n",
    "    num_outputs = env.action_space.n\n",
    "    model = build_network(num_inputs, num_outputs)\n",
    "    train = build_train(model, num_outputs)\n",
    "\n",
    "    steps_per_sample = []\n",
    "    for sample in range(num_samples):\n",
    "        for episode in range(5000):\n",
    "            reward = run_episode(env, train, model, num_outputs)\n",
    "            if reward == env._max_episode_steps:\n",
    "                steps_per_sample.append(episode)\n",
    "                break\n",
    "        reset_model(model)\n",
    "\n",
    "    plt.hist(steps_per_sample)\n",
    "    plt.title('Policy Gradient Algorithm')\n",
    "    plt.xlabel('Episodes')\n",
    "    plt.ylabel('Frequency')\n",
    "    plt.show()"
   ]
  },
  {
   "cell_type": "markdown",
   "metadata": {},
   "source": [
    "## Our Approach:\n",
    "We developed a variety of different algorithms to solve Cartpole. Our goals were twofold: gain exposure to the basics of RL and incorporate the deep learning techniques we learned in 490.\n",
    "\n",
    "## Linear Models"
   ]
  },
  {
   "cell_type": "markdown",
   "metadata": {},
   "source": [
    "### Random Parameters \n",
    "This algorithm involves creating up to N sets of parameters randomly (for our environment, a size of 10,000 parameter sets would be more than sufficient). Each set of parameters were of length 4 and set between -1 and 1. The parameter set was then tested until the game was over. If the current set of parameters achieved a greater amount of reward than the previous maximum, the set would be saved."
   ]
  },
  {
   "cell_type": "code",
   "execution_count": 4,
   "metadata": {
    "collapsed": true
   },
   "outputs": [],
   "source": [
    "def run_guesses(env):\n",
    "    best_params = None\n",
    "    best_reward = 0\n",
    "    t_found = None\n",
    "\n",
    "    for t in range(10000):  # 10,000 random configurations, 1 each episode\n",
    "        params = np.random.rand(4) * 2 - 1  # Random weights btwn -1 and 1\n",
    "        reward = test_params(env, params)\n",
    "        if reward > best_reward:\n",
    "            best_reward = reward\n",
    "            best_params = params\n",
    "            t_found = t+1\n",
    "            if reward == env._max_episode_steps:\n",
    "                break\n",
    "\n",
    "    return t_found"
   ]
  },
  {
   "cell_type": "code",
   "execution_count": 5,
   "metadata": {},
   "outputs": [
    {
     "data": {
      "image/png": "[encoded data removed]",
      "text/plain": [
       "<matplotlib.figure.Figure at 0x1068d9e10>"
      ]
     },
     "metadata": {},
     "output_type": "display_data"
    }
   ],
   "source": [
    "runGuessing(env)"
   ]
  },
  {
   "cell_type": "markdown",
   "metadata": {},
   "source": [
    "### Hill Climbing\n",
    "This algorithm involves creating a set of parameters randomly (similar to the random parameters algorithm), testing our initial set of parameters, and then adding “noise” to the parameter set. This noise would be a random set of four numbers between -1 and 1, scaled by a factor of our choice. Similar to the other model, if the current set of parameters achieved a greater amount of reward than the previous maximum, the set would be saved. Noise would be added up to N times."
   ]
  },
  {
   "cell_type": "code",
   "execution_count": 6,
   "metadata": {
    "collapsed": true
   },
   "outputs": [],
   "source": [
    "def climb_hill(env, scale_noise=0.1):\n",
    "    best_params = None\n",
    "    best_reward = 0\n",
    "    t_found = None\n",
    "\n",
    "    # Start with random setting of the parameters\n",
    "    params = np.random.rand(4) * 2 - 1\n",
    "\n",
    "    for t in range(10000):  # Number of iterations to \"climb\"\n",
    "        noise = (np.random.rand(4) * 2 - 1) * scale_noise\n",
    "        params = params + noise  # Add noise matrix to params\n",
    "        reward = test_params(env, params)\n",
    "        if reward > best_reward:\n",
    "            best_reward = reward\n",
    "            best_params = params\n",
    "            t_found = t+1\n",
    "            if reward == env._max_episode_steps:\n",
    "                break\n",
    "\n",
    "    if best_reward == env._max_episode_steps:\n",
    "        return t_found\n",
    "    else:\n",
    "        return None  # return 0 if we did not find desired reward"
   ]
  },
  {
   "cell_type": "code",
   "execution_count": 7,
   "metadata": {},
   "outputs": [
    {
     "data": {
      "image/png": "[encoded data removed]",
      "text/plain": [
       "<matplotlib.figure.Figure at 0x10dc9e7f0>"
      ]
     },
     "metadata": {},
     "output_type": "display_data"
    }
   ],
   "source": [
    "runHillClimbing(env)"
   ]
  },
  {
   "cell_type": "markdown",
   "metadata": {},
   "source": [
    "## Policy Gradient\n",
    "We adopted a stochastic policy that defines a probability for each action given the current state. We created a loss and training function to influence the probabilities with the rewards. Our training function considers the difference between the reward seen at a state and the average reward. An action with a reward much larger than the average will have its probability increased for that state."
   ]
  },
  {
   "cell_type": "code",
   "execution_count": 8,
   "metadata": {},
   "outputs": [
    {
     "name": "stderr",
     "output_type": "stream",
     "text": [
      "Using TensorFlow backend.\n"
     ]
    }
   ],
   "source": [
    "from keras.models import Model\n",
    "from keras import layers\n",
    "from keras import backend as K\n",
    "from keras import utils as np_utils\n",
    "from keras import optimizers\n",
    "from matplotlib import pyplot as plt\n",
    "\n",
    "\n",
    "def build_network(num_inputs, num_outputs):\n",
    "    # use Keras functional API to construct policy network\n",
    "    network = layers.Input(shape=(num_inputs,))\n",
    "    input = network\n",
    "\n",
    "    for layer in [32, 16, 8]:\n",
    "        network = layers.Dense(layer)(network)\n",
    "        network = layers.Activation(\"relu\")(network)\n",
    "\n",
    "    network = layers.Dense(num_outputs)(network)\n",
    "    network = layers.Activation(\"softmax\")(network)\n",
    "\n",
    "    return Model(inputs=input, outputs=network)\n",
    "\n",
    "\n",
    "def build_train(model, num_outputs):\n",
    "    prob_action = model.output\n",
    "    encoded_action = K.placeholder(shape=(None, num_outputs), name=\"encoded_action\")\n",
    "    discount_reward = K.placeholder(shape=(None,), name=\"discount_reward\")\n",
    "\n",
    "    loss = K.mean(-K.log(K.sum(prob_action * encoded_action, axis=1)) * discount_reward)\n",
    "\n",
    "    deltas = optimizers.Adam().get_updates(params=model.trainable_weights, loss=loss)\n",
    "\n",
    "    return K.function(inputs=[model.input, encoded_action, discount_reward], outputs=[], updates=deltas)\n",
    "\n",
    "\n",
    "def get_action(model, state, num_outputs):\n",
    "    state = np.expand_dims(state, axis=0)\n",
    "    prob_action = np.squeeze(model.predict(state))\n",
    "\n",
    "    return np.random.choice(np.arange(num_outputs), p=prob_action)\n",
    "\n",
    "\n",
    "def fit(train, states, actions, rewards, num_outputs):\n",
    "    encoded_action = np_utils.to_categorical(actions, num_classes=num_outputs)\n",
    "    discount_reward = get_discounted(rewards)\n",
    "    train([states, encoded_action, discount_reward])\n",
    "\n",
    "\n",
    "def get_discounted(rewards):\n",
    "    discount_rate = 0.96\n",
    "    discounted = np.zeros_like(rewards, dtype=np.float32)\n",
    "    sum = 0\n",
    "\n",
    "    for t in reversed(range(len(rewards))):\n",
    "        sum = sum * discount_rate + rewards[t]\n",
    "        discounted[t] = sum \n",
    "\n",
    "    discounted -= discounted.mean() / discounted.std()\n",
    "\n",
    "    return discounted\n",
    "\n",
    "\n",
    "def run_episode(env, train, model, num_outputs):\n",
    "    is_done = False\n",
    "    state = env.reset()\n",
    "    states = []\n",
    "    actions = []\n",
    "    rewards = []\n",
    "    total_reward = 0\n",
    "\n",
    "    while not is_done:\n",
    "        action = get_action(model, state, num_outputs)\n",
    "        new_state, reward, is_done, info = env.step(action)\n",
    "        total_reward += reward\n",
    "\n",
    "        states.append(state)\n",
    "        actions.append(action)\n",
    "        rewards.append(reward)\n",
    "\n",
    "        state = new_state\n",
    "\n",
    "    fit(train, np.asarray(states), np.asarray(actions), np.asarray(rewards), num_outputs)\n",
    "\n",
    "    return total_reward\n",
    "\n",
    "\n",
    "def reset_model(model):\n",
    "    session = K.get_session()\n",
    "    for layer in model.layers:\n",
    "        if hasattr(layer, 'kernel_initializer'):\n",
    "            layer.kernel.initializer.run(session=session)"
   ]
  },
  {
   "cell_type": "code",
   "execution_count": 9,
   "metadata": {},
   "outputs": [
    {
     "data": {
      "image/png": "[encoded data removed]",
      "text/plain": [
       "<matplotlib.figure.Figure at 0x11b3195c0>"
      ]
     },
     "metadata": {},
     "output_type": "display_data"
    }
   ],
   "source": [
    "runPolicyGradient(env)"
   ]
  },
  {
   "cell_type": "markdown",
   "metadata": {},
   "source": [
    "## Deep Q Learning\n",
    "The set of states and actions, together with rules for transitioning from one state to another, make up a Markov decision process. One episode of this process (e.g. one game) forms a finite sequence of states, actions and rewards:\n",
    "A Markov decision process relies on the Markov assumption, that the probability of the next state si+1 depends only on current state si and action ai, but not on preceding states or actions.\n",
    "![title](./MarkovDecision.png)"
   ]
  },
  {
   "cell_type": "markdown",
   "metadata": {},
   "source": [
    "Given that, the total future reward from time point t onward can be expressed as:\n",
    "![title](./Rt.png)\n",
    "Here γ is the discount factor between 0 and 1 – the more into the future the reward is, the less we take it into consideration. "
   ]
  },
  {
   "cell_type": "markdown",
   "metadata": {},
   "source": [
    "![title](./policy.png)\n",
    "Where Q(s, a) represents the maximum discounted future reward when we perform action a in state s, and continue optimally from that point on."
   ]
  },
  {
   "cell_type": "markdown",
   "metadata": {},
   "source": [
    "![title](./bellman.png)\n",
    "This is called the Bellman equation. The main idea in Q-learning is that we can iteratively approximate the Q-function using the Bellman equation."
   ]
  },
  {
   "cell_type": "markdown",
   "metadata": {},
   "source": [
    "### Algorithm\n",
    "![title](./alg.png)"
   ]
  },
  {
   "cell_type": "code",
   "execution_count": null,
   "metadata": {},
   "outputs": [
    {
     "name": "stderr",
     "output_type": "stream",
     "text": [
      "Using TensorFlow backend.\n"
     ]
    },
    {
     "name": "stdout",
     "output_type": "stream",
     "text": [
      "\u001b[33mWARN: gym.spaces.Box autodetected dtype as <class 'numpy.float32'>. Please provide explicit dtype.\u001b[0m\n"
     ]
    }
   ],
   "source": [
    "import gym\n",
    "import numpy as np\n",
    "from keras.models import Sequential\n",
    "from keras.layers import Dense\n",
    "from collections import deque\n",
    "from matplotlib import pyplot as plt\n",
    "plt.switch_backend('agg')\n",
    "# Create the Cart-Pole game environment\n",
    "env = gym.make('CartPole-v0')\n",
    "\n",
    "\n",
    "class DQNetwork:\n",
    "    def __init__(self, learning_rate=0.01):\n",
    "        # state inputs to the Q-network\n",
    "        self.model = Sequential()\n",
    "\n",
    "        self.model.add(Dense(10, activation='relu', input_dim=4))\n",
    "        self.model.add(Dense(10, activation='relu'))\n",
    "        self.model.add(Dense(2, activation='linear'))\n",
    "        self.optimizer = 'adagrad'\n",
    "        self.model.compile(loss='mse', optimizer=self.optimizer)\n",
    "\n",
    "\n",
    "class Memory():\n",
    "    def __init__(self, max_size=1000):\n",
    "        self.b = deque(maxlen=max_size)\n",
    "\n",
    "    def learn(self, exp):\n",
    "        self.b.append(exp)\n",
    "\n",
    "    def sample(self, batch_size):\n",
    "        idx = np.random.choice(\n",
    "            np.arange(len(self.b)), size=batch_size, replace=False)\n",
    "        return [self.b[i] for i in idx]\n",
    "\n",
    "\n",
    "train_episodes = 500  # max number of episodes to learn from\n",
    "max_steps = 200  # max steps in an episode\n",
    "gamma = 0.99  # future reward discount\n",
    "batch_size = 32  # experience mini-batch size\n",
    "pretrain_length = batch_size  # number experiences to pretrain the memory\n",
    "\n",
    "mainQN = DQNetwork()\n",
    "#resest environment before starting to build memory\n",
    "env.reset()\n",
    "# do something random to start environment\n",
    "state, reward, done, _ = env.step(env.action_space.sample())\n",
    "state = np.reshape(state, [1, 4])\n",
    "memory = Memory()\n",
    "\n",
    "for ii in range(pretrain_length):\n",
    "    # env.render()\n",
    "    action = env.action_space.sample()\n",
    "    next_state, reward, done, _ = env.step(action)\n",
    "    next_state = np.reshape(next_state, [1, 4])\n",
    "\n",
    "    if done:\n",
    "        next_state = np.zeros(state.shape)\n",
    "        memory.learn((state, action, reward, next_state))\n",
    "\n",
    "        env.reset()\n",
    "        state, reward, done, _ = env.step(env.action_space.sample())\n",
    "        state = np.reshape(state, [1, 4])\n",
    "    else:\n",
    "        memory.learn((state, action, reward, next_state))\n",
    "        state = next_state\n",
    "step = 0\n",
    "steps_per_sample=[]\n",
    "# starting episodes from 1\n",
    "for ep in range(1, train_episodes):\n",
    "    total_reward = 0\n",
    "    t = 0\n",
    "    while t < max_steps:\n",
    "        step += 1\n",
    "        # env.render()\n",
    "\n",
    "        action = env.action_space.sample()\n",
    "        next_state, reward, done, _ = env.step(action)\n",
    "        next_state = np.reshape(next_state, [1, 4])\n",
    "        total_reward += reward\n",
    "\n",
    "        if done:\n",
    "            # the episode ends so no next state\n",
    "            next_state = np.zeros(state.shape)\n",
    "            steps_per_sample.append(t)\n",
    "            t = max_steps\n",
    "            # print('Episode: {}'.format(ep),\n",
    "            #       'Total reward: {}'.format(total_reward))\n",
    "            # Add experience to memory\n",
    "            memory.learn((state, action, reward, next_state))\n",
    "            # Start new episode\n",
    "            env.reset()\n",
    "            # Take one random step to get the pole and cart moving\n",
    "            state, reward, done, _ = env.step(env.action_space.sample())\n",
    "            state = np.reshape(state, [1, 4])\n",
    "        else:\n",
    "            # Add experience to memory\n",
    "            memory.learn((state, action, reward, next_state))\n",
    "            state = next_state\n",
    "            t += 1\n",
    "\n",
    "        # Replay\n",
    "        inputs = np.zeros((batch_size, 4))\n",
    "        targets = np.zeros((batch_size, 2))\n",
    "\n",
    "        minibatch = memory.sample(batch_size)\n",
    "        for i, (state_b, action_b, reward_b,\n",
    "                next_state_b) in enumerate(minibatch):\n",
    "            inputs[i:i + 1] = state_b\n",
    "            target = reward_b\n",
    "            if not (next_state_b == np.zeros(state_b.shape)).all(axis=1):\n",
    "                target_Q = mainQN.model.predict(next_state_b)[0]\n",
    "                target = reward_b + gamma * np.amax(\n",
    "                    mainQN.model.predict(next_state_b)[0])\n",
    "            targets[i] = mainQN.model.predict(state_b)\n",
    "            targets[i][action_b] = target\n",
    "        mainQN.model.fit(inputs, targets, epochs=1, verbose=0)\n",
    " #print(steps_per_sample)\n",
    "plt.hist(steps_per_sample)\n",
    "plt.title('DQN Algorithm')\n",
    "plt.xlabel('Episodes')\n",
    "plt.ylabel('Frequency')\n",
    "plt.savefig('dqn.png')\n"
   ]
  },
  {
   "cell_type": "markdown",
   "metadata": {},
   "source": [
    "![title](./dqn.png)"
   ]
  },
  {
   "cell_type": "markdown",
   "metadata": {},
   "source": [
    "## Conclusions\n",
    "Since there are only 4 parameters involved in the Cartpole environment, it is not surprising to see simple algorithms such as Random Parameters consistently outperforming the more computationally intensive algorithms such as Policy Gradient. We found that the Random Paramters converged very quickly, while the Hill Climbing Algorithm tended to converge quickly, but had some outliers (a large range). Policy Gradient and DQN took a large number of episodes to converge because they both learn to estimate a function (neural network). Despite the convergence speed, there are other benefits for using my complicated methods like Policy Gradient or DQN. For environments with higher dimensionality involved in the parameter sets, we would expect to see the more complex algorithms outperform the simple algorithms. With these methods, we can represent an arbitrarily large action space and are guaranteed convergence.\n",
    "\n",
    "In the future, we intend to use convolutional neural networks to base our decision making on the rendered images instead of basing our decisions on the game's state via the observation property of the environment's step function."
   ]
  },
  {
   "cell_type": "markdown",
   "metadata": {},
   "source": [
    "## References\n",
    "1. https://ai.intel.com/demystifying-deep-reinforcement-learning/ \n",
    "2. https://towardsdatascience.com/welcome-to-deep-reinforcement-learning-part-1-dqn-c3cab4d41b6b\n",
    "3. https://gym.openai.com/\n",
    "4. https://gym.openai.com/envs/CartPole-v0/\n",
    "5. http://www.scholarpedia.org/article/Policy_gradient_methods\n",
    "6. https://www.youtube.com/watch?v=KHZVXao4qXs\n"
   ]
  }
 ],
 "metadata": {
  "kernelspec": {
   "display_name": "Python 3",
   "language": "python",
   "name": "python3"
  },
  "language_info": {
   "codemirror_mode": {
    "name": "ipython",
    "version": 3
   },
   "file_extension": ".py",
   "mimetype": "text/x-python",
   "name": "python",
   "nbconvert_exporter": "python",
   "pygments_lexer": "ipython3",
   "version": "3.6.3"
  }
 },
 "nbformat": 4,
 "nbformat_minor": 2
}
